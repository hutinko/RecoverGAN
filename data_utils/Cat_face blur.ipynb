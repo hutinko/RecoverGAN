{
 "cells": [
  {
   "cell_type": "code",
   "execution_count": 1,
   "metadata": {
    "collapsed": true
   },
   "outputs": [],
   "source": [
    "from PIL import Image\n",
    "from PIL import ImageFilter\n",
    "import os\n",
    "import random\n",
    "import datetime"
   ]
  },
  {
   "cell_type": "code",
   "execution_count": 2,
   "metadata": {
    "collapsed": false
   },
   "outputs": [],
   "source": [
    "def saveImg(img,filename, batch):\n",
    "    dir =os.path.dirname(os.getcwd()+'/Blur_OUTPUT_' + str(batch)+'/')\n",
    "    if not os.path.exists(dir):\n",
    "        os.makedirs(dir)\n",
    "    img.save(dir+'/'+filename)\n",
    "def AddGaussianNoiseToCatface(output_batch,percentage,GaussianArg):\n",
    "#     output_batch = 0\n",
    "    if not percentage < 0 and not percentage >1 and not GaussianArg<0 and not GaussianArg >100:\n",
    "        Catface_jpg = [f for f in os.listdir(os.getcwd()+'/output/OUTPUT_'+ str(output_batch)) if f.endswith('.jpg')]\n",
    "        for i in range(len(Catface_jpg)):\n",
    "            cat = Image.open(os.getcwd()+'/output/OUTPUT_'+ str(output_batch) + '/'+Catface_jpg[i])\n",
    "            width,height = cat.size\n",
    "            w = int(width * percentage)\n",
    "            h = int(height * percentage)\n",
    "            range_w = width - w\n",
    "            range_h = height - h\n",
    "            seed = datetime.datetime.now().second\n",
    "            random.seed(seed)\n",
    "            start_w = random.randrange(range_w)\n",
    "            start_h = random.randrange(range_h)\n",
    "            box = (start_w,start_h,start_w + w,start_h + h)\n",
    "            crop_cat = cat.crop(box)\n",
    "            crop_cat = crop_cat.filter(ImageFilter.GaussianBlur(GaussianArg))\n",
    "            cat.paste(crop_cat,box)\n",
    "            saveImg(cat,Catface_jpg[i],output_batch)"
   ]
  },
  {
   "cell_type": "code",
   "execution_count": 3,
   "metadata": {
    "collapsed": true
   },
   "outputs": [],
   "source": [
    "for i in range(7):\n",
    "    AddGaussianNoiseToCatface(i,0.5,10)"
   ]
  }
 ],
 "metadata": {
  "kernelspec": {
   "display_name": "Python [Root]",
   "language": "python",
   "name": "Python [Root]"
  },
  "language_info": {
   "codemirror_mode": {
    "name": "ipython",
    "version": 3
   },
   "file_extension": ".py",
   "mimetype": "text/x-python",
   "name": "python",
   "nbconvert_exporter": "python",
   "pygments_lexer": "ipython3",
   "version": "3.5.2"
  }
 },
 "nbformat": 4,
 "nbformat_minor": 0
}
