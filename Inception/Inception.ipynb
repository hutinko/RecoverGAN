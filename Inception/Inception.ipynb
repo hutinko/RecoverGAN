{
 "cells": [
  {
   "cell_type": "markdown",
   "metadata": {},
   "source": [
    "# Classifier based on Inception and Tensorflow Slim\n"
   ]
  },
  {
   "cell_type": "code",
   "execution_count": 9,
   "metadata": {
    "collapsed": true
   },
   "outputs": [],
   "source": [
    "from models import dataset_utils\n",
    "from models import imagenet\n",
    "from models import inception_preprocessing\n",
    "from models import inception_v4 as inception\n",
    "\n",
    "import numpy as np\n",
    "import os\n",
    "import tensorflow as tf\n",
    "from urllib.request import urlopen\n",
    "import urllib\n",
    "import matplotlib.pyplot as plt\n",
    "import glob"
   ]
  },
  {
   "cell_type": "markdown",
   "metadata": {},
   "source": [
    "## Multi Classifier"
   ]
  },
  {
   "cell_type": "code",
   "execution_count": 10,
   "metadata": {
    "collapsed": true
   },
   "outputs": [],
   "source": [
    "class inceptionv4_classifier(object):\n",
    "    def __init__(self, extension='.jpg', path_to_validate='to_validate/', checkpoints_dir='checkpoints/', keyword='cat', top_k = 5, print_flag = False):\n",
    "        self.slim = tf.contrib.slim\n",
    "        self.model_url = \"http://download.tensorflow.org/models/inception_v4_2016_09_09.tar.gz\"\n",
    "        if not tf.gfile.Exists(checkpoints_dir):\n",
    "            tf.gfile.MakeDirs(checkpoints_dir)\n",
    "        self.checkpoints_dir = checkpoints_dir\n",
    "        if not tf.gfile.Exists(checkpoints_dir + 'inception_v4_2016_09_09.tar.gz'):\n",
    "            dataset_utils.download_and_uncompress_tarball(self.model_url, self.checkpoints_dir)\n",
    "            \n",
    "        self.image_size = inception.inception_v4.default_image_size\n",
    "        self.extension = extension\n",
    "        self.path_to_validate = path_to_validate\n",
    "        self.files = [filename for filename in glob.glob(self.path_to_validate + '*' + self.extension)]\n",
    "        self.dim = len(self.files)\n",
    "        print('Total files to perform validation: ' + str(self.dim))\n",
    "        \n",
    "        self.image_and_probabilities = []\n",
    "        self.keyword = keyword\n",
    "        self.print_flag = print_flag\n",
    "        self.top_k = top_k\n",
    "        self.accuracy = 0\n",
    "    \n",
    "    def image_preprocessor(self, img):\n",
    "        img_str = urlopen('file:' + urllib.request.pathname2url(img)).read()\n",
    "        image = tf.image.decode_jpeg(img_str, channels=3)\n",
    "        processed_image = inception_preprocessing.preprocess_image(image, self.image_size, self.image_size, is_training=False)\n",
    "        processed_images  = tf.expand_dims(processed_image, 0)\n",
    "        # return a tuple of (tensor, tensor)\n",
    "        return image, processed_images\n",
    "   \n",
    "    def main(self):\n",
    "        \n",
    "        with tf.Graph().as_default():\n",
    "            self.processed_tensor_list = map(self.image_preprocessor, self.files)\n",
    "                        \n",
    "            # Iterate over a map object\n",
    "            for tensor_tuple in self.processed_tensor_list:\n",
    "                \n",
    "                # Create the model, use the default arg scope to configure the batch norm parameters.\n",
    "                with self.slim.arg_scope(inception.inception_v4_arg_scope()):\n",
    "                    logits, _ = inception.inception_v4(tensor_tuple[1], num_classes=1001, is_training=False)\n",
    "                # Append a tuple (image, probability)\n",
    "                self.image_and_probabilities.append( (tensor_tuple[0],tf.nn.softmax(logits)) )\n",
    "            \n",
    "            self.init_fn = self.slim.assign_from_checkpoint_fn(\n",
    "                        os.path.join(self.checkpoints_dir, 'inception_v4.ckpt'),\n",
    "                        self.slim.get_model_variables('InceptionV4'))\n",
    "            \n",
    "            with tf.Session() as sess:\n",
    "                self.init_fn(sess)\n",
    "                for idx in range(self.dim):\n",
    "                    print('Classifying on image' + str(idx))\n",
    "                    _, probabilities = sess.run([self.image_and_probabilities[idx][0], self.image_and_probabilities[idx][1]])\n",
    "                    probabilities = probabilities[0, 0:]\n",
    "                    sorted_inds = [i[0] for i in sorted(enumerate(-probabilities), key=lambda x:x[1])]\n",
    "\n",
    "                    names = imagenet.create_readable_names_for_imagenet_labels()\n",
    "\n",
    "                    temp_array=[]\n",
    "                    for i in range(self.top_k):\n",
    "                        index = sorted_inds[i]\n",
    "                        temp_array.append(names[index])\n",
    "                        if self.print_flag:\n",
    "                            print('Probability %0.2f%% => [%s]' % (probabilities[index], names[index]))\n",
    "                    if any(self.keyword in s for s in temp_array):\n",
    "                        self.accuracy += 1\n",
    "        print('Classification Accuracy ====> ' + str(tf.divide(self.accuracy,self.dim)))"
   ]
  },
  {
   "cell_type": "code",
   "execution_count": null,
   "metadata": {
    "collapsed": false
   },
   "outputs": [
    {
     "name": "stdout",
     "output_type": "stream",
     "text": [
      "Total files to perform validation: 585\n"
     ]
    }
   ],
   "source": [
    "app = inceptionv4_classifier(keyword='cat')\n",
    "app.main()"
   ]
  },
  {
   "cell_type": "code",
   "execution_count": null,
   "metadata": {
    "collapsed": true
   },
   "outputs": [],
   "source": []
  }
 ],
 "metadata": {
  "anaconda-cloud": {},
  "kernelspec": {
   "display_name": "Python [Root]",
   "language": "python",
   "name": "Python [Root]"
  },
  "language_info": {
   "codemirror_mode": {
    "name": "ipython",
    "version": 3
   },
   "file_extension": ".py",
   "mimetype": "text/x-python",
   "name": "python",
   "nbconvert_exporter": "python",
   "pygments_lexer": "ipython3",
   "version": "3.5.2"
  }
 },
 "nbformat": 4,
 "nbformat_minor": 2
}
