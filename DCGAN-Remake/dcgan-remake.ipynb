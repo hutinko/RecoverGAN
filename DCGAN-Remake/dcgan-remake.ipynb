{
 "cells": [
  {
   "cell_type": "markdown",
   "metadata": {
    "deletable": true,
    "editable": true
   },
   "source": [
    "# Deep Convolutional GAN Remake"
   ]
  },
  {
   "cell_type": "markdown",
   "metadata": {
    "deletable": true,
    "editable": true
   },
   "source": [
    "## App module"
   ]
  },
  {
   "cell_type": "code",
   "execution_count": 1,
   "metadata": {
    "collapsed": false,
    "deletable": true,
    "editable": true
   },
   "outputs": [
    {
     "name": "stdout",
     "output_type": "stream",
     "text": [
      "{'batch_size': 64,\n",
      " 'beta1': 0.5,\n",
      " 'c_dim': 3,\n",
      " 'checkpoint_dir': 'checkpoint',\n",
      " 'dataset': 'celebA',\n",
      " 'epoch': 20,\n",
      " 'gpu_utilization': 0.8,\n",
      " 'input_file_extension': '*.jpg',\n",
      " 'input_height': 108,\n",
      " 'input_width': None,\n",
      " 'is_crop': False,\n",
      " 'is_train': False,\n",
      " 'learning_rate': 0.0002,\n",
      " 'output_height': 64,\n",
      " 'output_width': None,\n",
      " 'sample_dir': 'samples',\n",
      " 'train_size': inf}\n"
     ]
    },
    {
     "ename": "TypeError",
     "evalue": "init() takes 1 positional argument but 2 were given",
     "output_type": "error",
     "traceback": [
      "\u001b[0;31m---------------------------------------------------------------------------\u001b[0m",
      "\u001b[0;31mTypeError\u001b[0m                                 Traceback (most recent call last)",
      "\u001b[0;32m<ipython-input-1-140d82d58990>\u001b[0m in \u001b[0;36m<module>\u001b[0;34m()\u001b[0m\n\u001b[1;32m    109\u001b[0m \u001b[0;34m\u001b[0m\u001b[0m\n\u001b[1;32m    110\u001b[0m \u001b[0;32mif\u001b[0m \u001b[0m__name__\u001b[0m \u001b[0;34m==\u001b[0m \u001b[0;34m'__main__'\u001b[0m\u001b[0;34m:\u001b[0m\u001b[0;34m\u001b[0m\u001b[0m\n\u001b[0;32m--> 111\u001b[0;31m     \u001b[0mtf\u001b[0m\u001b[0;34m.\u001b[0m\u001b[0mapp\u001b[0m\u001b[0;34m.\u001b[0m\u001b[0mrun\u001b[0m\u001b[0;34m(\u001b[0m\u001b[0;34m)\u001b[0m\u001b[0;34m\u001b[0m\u001b[0m\n\u001b[0m\u001b[1;32m    112\u001b[0m \u001b[0;31m#     pass\u001b[0m\u001b[0;34m\u001b[0m\u001b[0;34m\u001b[0m\u001b[0m\n\u001b[1;32m    113\u001b[0m \u001b[0;34m\u001b[0m\u001b[0m\n",
      "\u001b[0;32m/Users/ZalaCheung/anaconda/lib/python3.5/site-packages/tensorflow/python/platform/app.py\u001b[0m in \u001b[0;36mrun\u001b[0;34m(main, argv)\u001b[0m\n\u001b[1;32m     42\u001b[0m   \u001b[0;31m# Call the main function, passing through any arguments\u001b[0m\u001b[0;34m\u001b[0m\u001b[0;34m\u001b[0m\u001b[0m\n\u001b[1;32m     43\u001b[0m   \u001b[0;31m# to the final program.\u001b[0m\u001b[0;34m\u001b[0m\u001b[0;34m\u001b[0m\u001b[0m\n\u001b[0;32m---> 44\u001b[0;31m   \u001b[0m_sys\u001b[0m\u001b[0;34m.\u001b[0m\u001b[0mexit\u001b[0m\u001b[0;34m(\u001b[0m\u001b[0mmain\u001b[0m\u001b[0;34m(\u001b[0m\u001b[0m_sys\u001b[0m\u001b[0;34m.\u001b[0m\u001b[0margv\u001b[0m\u001b[0;34m[\u001b[0m\u001b[0;34m:\u001b[0m\u001b[0;36m1\u001b[0m\u001b[0;34m]\u001b[0m \u001b[0;34m+\u001b[0m \u001b[0mflags_passthrough\u001b[0m\u001b[0;34m)\u001b[0m\u001b[0;34m)\u001b[0m\u001b[0;34m\u001b[0m\u001b[0m\n\u001b[0m\u001b[1;32m     45\u001b[0m \u001b[0;34m\u001b[0m\u001b[0m\n\u001b[1;32m     46\u001b[0m \u001b[0;34m\u001b[0m\u001b[0m\n",
      "\u001b[0;32m<ipython-input-1-140d82d58990>\u001b[0m in \u001b[0;36mmain\u001b[0;34m(_)\u001b[0m\n\u001b[1;32m     56\u001b[0m     \u001b[0;32mif\u001b[0m \u001b[0mFLAGS\u001b[0m\u001b[0;34m.\u001b[0m\u001b[0mgpu_utilization\u001b[0m \u001b[0;34m>\u001b[0m \u001b[0;36m1\u001b[0m\u001b[0;34m:\u001b[0m\u001b[0;34m\u001b[0m\u001b[0m\n\u001b[1;32m     57\u001b[0m         \u001b[0mFLAGS\u001b[0m\u001b[0;34m.\u001b[0m\u001b[0mgpu_utilization\u001b[0m \u001b[0;34m=\u001b[0m \u001b[0;36m0.8\u001b[0m\u001b[0;34m\u001b[0m\u001b[0m\n\u001b[0;32m---> 58\u001b[0;31m     \u001b[0mGPU_options\u001b[0m \u001b[0;34m=\u001b[0m \u001b[0mtf\u001b[0m\u001b[0;34m.\u001b[0m\u001b[0mGPUOptions\u001b[0m\u001b[0;34m(\u001b[0m\u001b[0mFLAGS\u001b[0m\u001b[0;34m.\u001b[0m\u001b[0mgpu_utilization\u001b[0m\u001b[0;34m)\u001b[0m\u001b[0;34m\u001b[0m\u001b[0m\n\u001b[0m\u001b[1;32m     59\u001b[0m \u001b[0;34m\u001b[0m\u001b[0m\n\u001b[1;32m     60\u001b[0m     \u001b[0mrun_config\u001b[0m \u001b[0;34m=\u001b[0m \u001b[0mtf\u001b[0m\u001b[0;34m.\u001b[0m\u001b[0mConfigProto\u001b[0m\u001b[0;34m(\u001b[0m\u001b[0;34m)\u001b[0m\u001b[0;34m\u001b[0m\u001b[0m\n",
      "\u001b[0;31mTypeError\u001b[0m: init() takes 1 positional argument but 2 were given"
     ]
    }
   ],
   "source": [
    "import os\n",
    "import numpy as np\n",
    "import scipy.misc\n",
    "import tensorflow as tf\n",
    "import pprint\n",
    "\n",
    "# import DCGAN class\n",
    "# from model import DCGAN\n",
    "# import utils\n",
    "# from utils import pp, visualize, to_json, show_all_variables\n",
    "\n",
    "# Define a tensorflow app and the flags\n",
    "flags = tf.app.flags\n",
    "flags.DEFINE_integer(flag_name=\"epoch\", default_value=20, docstring=\"Epochs to train [20]\")\n",
    "flags.DEFINE_float(flag_name=\"learning_rate\", default_value=0.0002, docstring=\"Learning Rate for Gradient Optimizer [0.0002]\")\n",
    "flags.DEFINE_float(flag_name=\"beta1\", default_value=0.5, docstring=\"Momentum term of AdamOptimizer [0.5]\")\n",
    "\n",
    "flags.DEFINE_integer(flag_name=\"train_size\", default_value=np.inf, docstring=\"The size of train images [np.inf]\")\n",
    "flags.DEFINE_integer(flag_name=\"batch_size\", default_value=64, docstring=\"The size of batch images [64]\")\n",
    "flags.DEFINE_integer(flag_name=\"input_height\", default_value=108, docstring=\"The size of image to use (will be center cropped). [108]\")\n",
    "flags.DEFINE_integer(flag_name=\"input_width\", default_value=None, docstring=\"The size of image to use (will be center cropped). If None, same value as input_height [None]\")\n",
    "flags.DEFINE_integer(flag_name=\"output_height\", default_value=64, docstring=\"The size of the output images to produce [64]\")\n",
    "flags.DEFINE_integer(flag_name=\"output_width\", default_value=None, docstring=\"The size of the output images to produce. If None, same value as output_height [None]\")\n",
    "flags.DEFINE_integer(flag_name=\"c_dim\", default_value=3, docstring=\"Dimension of image color/channels. [3]\")\n",
    "\n",
    "flags.DEFINE_string(flag_name=\"dataset\", default_value=\"celebA\", docstring=\"The name of dataset [celebA, mnist, lsun]\")\n",
    "flags.DEFINE_string(flag_name=\"input_file_extension\", default_value=\"*.jpg\", docstring=\"Glob pattern of filename of input images [*]\")\n",
    "flags.DEFINE_string(flag_name=\"checkpoint_dir\", default_value=\"checkpoint\",docstring=\"Directory name to save the checkpoints [checkpoint]\")\n",
    "flags.DEFINE_string(flag_name=\"sample_dir\", default_value=\"samples\", docstring=\"Directory name to save the image samples [samples]\")\n",
    "\n",
    "flags.DEFINE_boolean(flag_name=\"is_train\", default_value=False, docstring=\"True for training, False for testing [False]\")\n",
    "flags.DEFINE_boolean(flag_name=\"is_crop\", default_value=False, docstring=\"True for training, False for testing [False]\")\n",
    "\n",
    "flags.DEFINE_float(flag_name=\"gpu_utilization\", default_value=0.8, docstring=\"Per process GPU memory fraction [0.8]\")\n",
    "# flags.DEFINE_boolean(\"visualize\", False, \"True for visualizing, False for nothing [False]\")\n",
    "FLAGS = flags.FLAGS\n",
    "\n",
    "\n",
    "def main(_):\n",
    "    # Print out the parameters\n",
    "    pprint.PrettyPrinter().pprint(flags.FLAGS.__flags)\n",
    "    \n",
    "    # Deal with input/output size default values\n",
    "    if not FLAGS.input_width:\n",
    "        FLAGS.input_width = FLAGS.input_height\n",
    "    if not FLAGS.output_width:\n",
    "        FLAGS.output_width = FLAGS.output_height\n",
    "    \n",
    "    # Deal with checkpoint/sample directory path\n",
    "    if not os.path.exists(FLAGS.checkpoint_dir):\n",
    "        os.makedirs(FLAGS.checkpoint_dir)\n",
    "    if not os.path.exists(FLAGS.sample_dir):\n",
    "        os.makedirs(FLAGS.sample_dir)\n",
    "    \n",
    "    # Deal with GPU utilization\n",
    "    if FLAGS.gpu_utilization > 1:\n",
    "        FLAGS.gpu_utilization = 0.8\n",
    "    GPU_options = tf.GPUOptions(FLAGS.gpu_utilization)\n",
    "    \n",
    "    run_config = tf.ConfigProto()\n",
    "    run_config.gpu_options.allow_growth = True\n",
    "    \n",
    "    with tf.Session(config=run_config) as sess:\n",
    "        # Deal with MNIST dataset\n",
    "        if FLAGS.dataset == 'mnist':\n",
    "            # Instantiate a dcgan isntance\n",
    "            dcgan = DCGAN(\n",
    "                sess,\n",
    "                input_width=FLAGS.input_width,\n",
    "                input_height=FLAGS.input_height,\n",
    "                output_width=FLAGS.output_width,\n",
    "                output_height=FLAGS.output_height,\n",
    "                batch_size=FLAGS.batch_size,\n",
    "                sample_num=FLAGS.batch_size,\n",
    "                y_dim=10,\n",
    "                c_dim=1,\n",
    "                dataset_name=FLAGS.dataset,\n",
    "                input_fname_pattern=FLAGS.input_file_extension,\n",
    "                is_crop=FLAGS.is_crop,\n",
    "                checkpoint_dir=FLAGS.checkpoint_dir,\n",
    "                sample_dir=FLAGS.sample_dir\n",
    "            )\n",
    "        else:\n",
    "            dcgan = DCGAN(\n",
    "                sess,\n",
    "                input_width=FLAGS.input_width,\n",
    "                input_height=FLAGS.input_height,\n",
    "                output_width=FLAGS.output_width,\n",
    "                output_height=FLAGS.output_height,\n",
    "                batch_size=FLAGS.batch_size,\n",
    "                sample_num=FLAGS.batch_size,\n",
    "                c_dim=FLAGS.c_dim,\n",
    "                dataset_name=FLAGS.dataset,\n",
    "                input_fname_pattern=FLAGS.input_file_extension,\n",
    "                is_crop=FLAGS.is_crop,\n",
    "                checkpoint_dir=FLAGS.checkpoint_dir,\n",
    "                sample_dir=FLAGS.sample_dir\n",
    "            )\n",
    "            \n",
    "        show_all_variables()\n",
    "        \n",
    "        # Deal with training\n",
    "        if FLAGS.is_train:\n",
    "            dcgan.train(FLAGS)\n",
    "        else:\n",
    "            if not dcgan.load(FLAGS.checkpoint_dir):\n",
    "                raise Exception(\"[!!!] Need to train a model first, then run test mode\")\n",
    "                \n",
    "                \n",
    "if __name__ == '__main__':\n",
    "    tf.app.run()\n",
    "#     pass\n",
    "\n",
    "    "
   ]
  },
  {
   "cell_type": "markdown",
   "metadata": {
    "deletable": true,
    "editable": true
   },
   "source": [
    "## Model module"
   ]
  },
  {
   "cell_type": "code",
   "execution_count": null,
   "metadata": {
    "collapsed": true,
    "deletable": true,
    "editable": true
   },
   "outputs": [],
   "source": []
  },
  {
   "cell_type": "markdown",
   "metadata": {
    "deletable": true,
    "editable": true
   },
   "source": [
    "## Utils module"
   ]
  },
  {
   "cell_type": "code",
   "execution_count": null,
   "metadata": {
    "collapsed": true,
    "deletable": true,
    "editable": true
   },
   "outputs": [],
   "source": [
    "import math, json, random, scipy.misc\n",
    "import numpy as np\n",
    "from time import gmtime, strftime\n",
    "from six.moves import xrange\n",
    "\n",
    "\n",
    "\n",
    "try:\n",
    "    import simplejson as json\n",
    "except:\n",
    "    pass"
   ]
  },
  {
   "cell_type": "markdown",
   "metadata": {
    "deletable": true,
    "editable": true
   },
   "source": [
    "## Ops module"
   ]
  }
 ],
 "metadata": {
  "kernelspec": {
   "display_name": "Python [Root]",
   "language": "python",
   "name": "Python [Root]"
  },
  "language_info": {
   "codemirror_mode": {
    "name": "ipython",
    "version": 3
   },
   "file_extension": ".py",
   "mimetype": "text/x-python",
   "name": "python",
   "nbconvert_exporter": "python",
   "pygments_lexer": "ipython3",
   "version": "3.5.2"
  }
 },
 "nbformat": 4,
 "nbformat_minor": 2
}
