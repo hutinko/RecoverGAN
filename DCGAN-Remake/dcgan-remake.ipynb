{
 "cells": [
  {
   "cell_type": "markdown",
   "metadata": {},
   "source": [
    "# Deep Convolutional GAN Remake"
   ]
  },
  {
   "cell_type": "markdown",
   "metadata": {},
   "source": [
    "## App module"
   ]
  },
  {
   "cell_type": "code",
   "execution_count": 1,
   "metadata": {
    "collapsed": true
   },
   "outputs": [],
   "source": [
    "import os\n",
    "import numpy as np\n",
    "import scipy.misc\n",
    "import tensorflow as tf\n",
    "\n",
    "# import DCGAN class\n",
    "# from model import DCGAN\n",
    "# import utils\n",
    "# from utils import pp, visualize, to_json, show_all_variables\n",
    "\n",
    "# Define a tensorflow app and the flags\n",
    "flags = tf.app.flags\n",
    "flags.DEFINE_integer(flag_name=\"epoch\", default_value=20, docstring=\"Epochs to train [20]\")\n",
    "flags.DEFINE_float(flag_name=\"learning_rate\", default_value=0.0002, docstring=\"Learning Rate for Gradient Optimizer [0.0002]\")\n",
    "flags.DEFINE_float(flag_name=\"beta1\", default_value=0.5, docstring=\"Momentum term of AdamOptimizer [0.5]\")\n",
    "\n",
    "flags.DEFINE_integer(flag_name=\"train_size\", default_value=np.inf, docstring=\"The size of train images [np.inf]\")\n",
    "flags.DEFINE_integer(flag_name=\"batch_size\", default_value=64, docstring=\"The size of batch images [64]\")\n",
    "flags.DEFINE_integer(flag_name=\"input_height\", default_value=108, docstring=\"The size of image to use (will be center cropped). [108]\")\n",
    "flags.DEFINE_integer(flag_name=\"input_width\", default_value=None, docstring=\"The size of image to use (will be center cropped). If None, same value as input_height [None]\")\n",
    "flags.DEFINE_integer(flag_name=\"output_height\", default_value=64, docstring=\"The size of the output images to produce [64]\")\n",
    "flags.DEFINE_integer(flag_name=\"output_width\", default_value=None, docstring=\"The size of the output images to produce. If None, same value as output_height [None]\")\n",
    "flags.DEFINE_integer(flag_name=\"c_dim\", default_value=3, docstring=\"Dimension of image color/channels. [3]\")\n",
    "\n",
    "\n",
    "flags.DEFINE_string\n",
    "flags.DEFINE_boolean\n"
   ]
  },
  {
   "cell_type": "markdown",
   "metadata": {},
   "source": [
    "## Model module"
   ]
  },
  {
   "cell_type": "code",
   "execution_count": null,
   "metadata": {
    "collapsed": true
   },
   "outputs": [],
   "source": []
  },
  {
   "cell_type": "markdown",
   "metadata": {},
   "source": [
    "## Utils module"
   ]
  },
  {
   "cell_type": "markdown",
   "metadata": {},
   "source": [
    "## Ops module"
   ]
  }
 ],
 "metadata": {
  "kernelspec": {
   "display_name": "Python 3",
   "language": "python",
   "name": "python3"
  },
  "language_info": {
   "codemirror_mode": {
    "name": "ipython",
    "version": 3
   },
   "file_extension": ".py",
   "mimetype": "text/x-python",
   "name": "python",
   "nbconvert_exporter": "python",
   "pygments_lexer": "ipython3",
   "version": "3.6.0"
  }
 },
 "nbformat": 4,
 "nbformat_minor": 2
}
